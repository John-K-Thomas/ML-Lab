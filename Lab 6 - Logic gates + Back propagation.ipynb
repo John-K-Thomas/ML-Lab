{
 "cells": [
  {
   "cell_type": "code",
   "execution_count": 1,
   "metadata": {},
   "outputs": [],
   "source": [
    "import numpy as np"
   ]
  },
  {
   "cell_type": "code",
   "execution_count": 2,
   "metadata": {},
   "outputs": [],
   "source": [
    "weight=[1,1]\n",
    "threshold=1.9\n",
    "def AND (x):\n",
    "    y=np.dot(x,weight)\n",
    "    return 1 if y>=threshold else 0"
   ]
  },
  {
   "cell_type": "code",
   "execution_count": 3,
   "metadata": {},
   "outputs": [
    {
     "name": "stdout",
     "output_type": "stream",
     "text": [
      "A=0  B=0  Y=0\n",
      "A=0  B=1  Y=0\n",
      "A=1  B=0  Y=0\n",
      "A=1  B=1  Y=1\n"
     ]
    }
   ],
   "source": [
    "print(\"A=0  B=0  Y=\"+str(AND([0,0])))\n",
    "print(\"A=0  B=1  Y=\"+str(AND([0,1])))\n",
    "print(\"A=1  B=0  Y=\"+str(AND([1,0])))\n",
    "print(\"A=1  B=1  Y=\"+str(AND([1,1])))"
   ]
  },
  {
   "cell_type": "code",
   "execution_count": 4,
   "metadata": {},
   "outputs": [],
   "source": [
    "weight=[-1,-1]\n",
    "threshold=-1.9\n",
    "def NAND (x):\n",
    "    y=np.dot(x,weight)\n",
    "    return 1 if y>=threshold else 0"
   ]
  },
  {
   "cell_type": "code",
   "execution_count": 5,
   "metadata": {},
   "outputs": [
    {
     "name": "stdout",
     "output_type": "stream",
     "text": [
      "A=0  B=0  Y=1\n",
      "A=0  B=1  Y=1\n",
      "A=1  B=0  Y=1\n",
      "A=1  B=1  Y=0\n"
     ]
    }
   ],
   "source": [
    "print(\"A=0  B=0  Y=\"+str(NAND([0,0])))\n",
    "print(\"A=0  B=1  Y=\"+str(NAND([0,1])))\n",
    "print(\"A=1  B=0  Y=\"+str(NAND([1,0])))\n",
    "print(\"A=1  B=1  Y=\"+str(NAND([1,1])))"
   ]
  },
  {
   "cell_type": "code",
   "execution_count": 6,
   "metadata": {},
   "outputs": [],
   "source": [
    "weight=[1,1]\n",
    "threshold=0.9\n",
    "def OR (x):\n",
    "    y=np.dot(x,weight)\n",
    "    return 1 if y>=threshold else 0"
   ]
  },
  {
   "cell_type": "code",
   "execution_count": 7,
   "metadata": {},
   "outputs": [
    {
     "name": "stdout",
     "output_type": "stream",
     "text": [
      "A=0  B=0  Y=0\n",
      "A=0  B=1  Y=1\n",
      "A=1  B=0  Y=1\n",
      "A=1  B=1  Y=1\n"
     ]
    }
   ],
   "source": [
    "print(\"A=0  B=0  Y=\"+str(OR([0,0])))\n",
    "print(\"A=0  B=1  Y=\"+str(OR([0,1])))\n",
    "print(\"A=1  B=0  Y=\"+str(OR([1,0])))\n",
    "print(\"A=1  B=1  Y=\"+str(OR([1,1])))"
   ]
  },
  {
   "cell_type": "code",
   "execution_count": 8,
   "metadata": {},
   "outputs": [],
   "source": [
    "weight=[-1,-1]\n",
    "threshold=-0.9\n",
    "def NOR (x):\n",
    "    y=np.dot(x,weight)\n",
    "    return 1 if y>=threshold else 0"
   ]
  },
  {
   "cell_type": "code",
   "execution_count": 9,
   "metadata": {},
   "outputs": [
    {
     "name": "stdout",
     "output_type": "stream",
     "text": [
      "A=0  B=0  Y=1\n",
      "A=0  B=1  Y=0\n",
      "A=1  B=0  Y=0\n",
      "A=1  B=1  Y=0\n"
     ]
    }
   ],
   "source": [
    "print(\"A=0  B=0  Y=\"+str(NOR([0,0])))\n",
    "print(\"A=0  B=1  Y=\"+str(NOR([0,1])))\n",
    "print(\"A=1  B=0  Y=\"+str(NOR([1,0])))\n",
    "print(\"A=1  B=1  Y=\"+str(NOR([1,1])))"
   ]
  },
  {
   "cell_type": "code",
   "execution_count": 10,
   "metadata": {},
   "outputs": [],
   "source": [
    "weight=[1,1]\n",
    "threshold1=0.9\n",
    "threshold2=1.1\n",
    "def XOR (x):\n",
    "    y=np.dot(x,weight)\n",
    "    return 1 if y>=threshold1 and threshold2>= y else 0"
   ]
  },
  {
   "cell_type": "code",
   "execution_count": 11,
   "metadata": {},
   "outputs": [
    {
     "name": "stdout",
     "output_type": "stream",
     "text": [
      "A=0  B=0  Y=0\n",
      "A=0  B=1  Y=1\n",
      "A=1  B=0  Y=1\n",
      "A=1  B=1  Y=0\n"
     ]
    }
   ],
   "source": [
    "print(\"A=0  B=0  Y=\"+str(XOR([0,0])))\n",
    "print(\"A=0  B=1  Y=\"+str(XOR([0,1])))\n",
    "print(\"A=1  B=0  Y=\"+str(XOR([1,0])))\n",
    "print(\"A=1  B=1  Y=\"+str(XOR([1,1])))"
   ]
  },
  {
   "cell_type": "code",
   "execution_count": 12,
   "metadata": {},
   "outputs": [],
   "source": [
    "weight=[1,1]\n",
    "threshold1=0.9\n",
    "threshold2=1.1\n",
    "def XNOR (x):\n",
    "    y=np.dot(x,weight)\n",
    "    return 1 if y<=threshold1 or threshold2<= y else 0"
   ]
  },
  {
   "cell_type": "code",
   "execution_count": 13,
   "metadata": {},
   "outputs": [
    {
     "name": "stdout",
     "output_type": "stream",
     "text": [
      "A=0  B=0  Y=1\n",
      "A=0  B=1  Y=0\n",
      "A=1  B=0  Y=0\n",
      "A=1  B=1  Y=1\n"
     ]
    }
   ],
   "source": [
    "print(\"A=0  B=0  Y=\"+str(XNOR([0,0])))\n",
    "print(\"A=0  B=1  Y=\"+str(XNOR([0,1])))\n",
    "print(\"A=1  B=0  Y=\"+str(XNOR([1,0])))\n",
    "print(\"A=1  B=1  Y=\"+str(XNOR([1,1])))"
   ]
  },
  {
   "cell_type": "code",
   "execution_count": 14,
   "metadata": {},
   "outputs": [],
   "source": [
    "weight=[-1]\n",
    "threshold=-0.9\n",
    "def NOT (x):\n",
    "    y=np.dot(x,weight)\n",
    "    return 1 if y>=threshold else 0"
   ]
  },
  {
   "cell_type": "code",
   "execution_count": 15,
   "metadata": {},
   "outputs": [
    {
     "name": "stdout",
     "output_type": "stream",
     "text": [
      "A=0  Y=1\n",
      "A=1  Y=0\n"
     ]
    }
   ],
   "source": [
    "print(\"A=0  Y=\"+str(NOT([0])))\n",
    "print(\"A=1  Y=\"+str(NOT([1])))"
   ]
  },
  {
   "cell_type": "code",
   "execution_count": null,
   "metadata": {},
   "outputs": [],
   "source": []
  },
  {
   "cell_type": "code",
   "execution_count": 16,
   "metadata": {},
   "outputs": [],
   "source": [
    "def sigmoid (x):\n",
    "    return 1/(1 + np.exp(-x))"
   ]
  },
  {
   "cell_type": "code",
   "execution_count": 17,
   "metadata": {},
   "outputs": [],
   "source": [
    "def sigmoid_derivative(x):\n",
    "    return x * (1 - x)"
   ]
  },
  {
   "cell_type": "code",
   "execution_count": 18,
   "metadata": {},
   "outputs": [],
   "source": [
    "inputs = np.array([[0,0],[0,1],[1,0],[1,1]])\n",
    "expectedOutput = np.array([[0],[1],[1],[0]])"
   ]
  },
  {
   "cell_type": "code",
   "execution_count": 19,
   "metadata": {},
   "outputs": [],
   "source": [
    "epochs = 10000\n",
    "lr = 0.1\n",
    "inputLayers, hiddenLayers, outputLayers = 2,2,1"
   ]
  },
  {
   "cell_type": "code",
   "execution_count": 20,
   "metadata": {},
   "outputs": [],
   "source": [
    "hiddenWeights = np.random.uniform(size=(inputLayers,hiddenLayers))\n",
    "hiddenBias =np.random.uniform(size=(1,hiddenLayers))\n",
    "outputWeights = np.random.uniform(size=(hiddenLayers,outputLayers))\n",
    "outputBias = np.random.uniform(size=(1,outputLayers ))"
   ]
  },
  {
   "cell_type": "code",
   "execution_count": 23,
   "metadata": {},
   "outputs": [],
   "source": [
    "for _ in range(epochs):\n",
    "    hiddenLayerActivation = np.dot(inputs,hiddenWeights)\n",
    "    hiddenLayerActivation += hiddenBias\n",
    "    hiddenLayerOutput = sigmoid(hiddenLayerActivation)\n",
    "\n",
    "    outputLayerActivation = np.dot(hiddenLayerOutput,outputWeights)\n",
    "    outputLayerActivation += outputBias\n",
    "    predictedOutput = sigmoid(outputLayerActivation)\n",
    "\n",
    "    error = expectedOutput - predictedOutput\n",
    "    d_predictedOutput = error * sigmoid_derivative(predictedOutput)\n",
    "    errorHiddenLayer = d_predictedOutput.dot(outputWeights.T)\n",
    "    d_hiddenLayer = errorHiddenLayer * sigmoid_derivative(hiddenLayerOutput)\n",
    "\n",
    "    outputWeights += hiddenLayerOutput.T.dot(d_predictedOutput) * lr\n",
    "    outputBias += np.sum(d_predictedOutput,axis=0,keepdims=True) * lr\n",
    "    hiddenWeights += inputs.T.dot(d_hiddenLayer) * lr\n",
    "    hiddenBias += np.sum(d_hiddenLayer,axis=0,keepdims=True) * lr\n"
   ]
  },
  {
   "cell_type": "code",
   "execution_count": 22,
   "metadata": {},
   "outputs": [
    {
     "name": "stdout",
     "output_type": "stream",
     "text": [
      "[0.0561847] [0.9482547] [0.94853065] [0.05564865]\n"
     ]
    }
   ],
   "source": [
    "print(*predictedOutput)"
   ]
  },
  {
   "cell_type": "code",
   "execution_count": null,
   "metadata": {},
   "outputs": [],
   "source": []
  }
 ],
 "metadata": {
  "kernelspec": {
   "display_name": "Python 3",
   "language": "python",
   "name": "python3"
  },
  "language_info": {
   "codemirror_mode": {
    "name": "ipython",
    "version": 3
   },
   "file_extension": ".py",
   "mimetype": "text/x-python",
   "name": "python",
   "nbconvert_exporter": "python",
   "pygments_lexer": "ipython3",
   "version": "3.8.3"
  }
 },
 "nbformat": 4,
 "nbformat_minor": 4
}
